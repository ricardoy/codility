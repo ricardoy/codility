{
 "cells": [
  {
   "cell_type": "code",
   "execution_count": 1,
   "metadata": {
    "collapsed": true
   },
   "outputs": [],
   "source": [
    "def leader(A):\n",
    "    n = len(A)\n",
    "    size = 0\n",
    "    for k in xrange(n):\n",
    "        if size == 0:\n",
    "            size += 1\n",
    "            value = A[k]\n",
    "        else:\n",
    "            if value != A[k]:\n",
    "                size -= 1\n",
    "            else:\n",
    "                size += 1\n",
    "    candidate = -1\n",
    "    if size > 0:\n",
    "        candidate = value\n",
    "    leader = -1\n",
    "    count = 0\n",
    "    for k in xrange(n):\n",
    "        if A[k] == candidate:\n",
    "            count += 1\n",
    "    if count > n // 2:\n",
    "        leader = candidate\n",
    "    return leader"
   ]
  },
  {
   "cell_type": "code",
   "execution_count": 2,
   "metadata": {
    "collapsed": false
   },
   "outputs": [
    {
     "data": {
      "text/plain": [
       "-1"
      ]
     },
     "execution_count": 2,
     "metadata": {},
     "output_type": "execute_result"
    }
   ],
   "source": [
    "leader([1, 2, 3, 1, 1, 2, 2, 3, 1, 1])"
   ]
  }
 ],
 "metadata": {
  "kernelspec": {
   "display_name": "Python 2",
   "language": "python",
   "name": "python2"
  },
  "language_info": {
   "codemirror_mode": {
    "name": "ipython",
    "version": 2
   },
   "file_extension": ".py",
   "mimetype": "text/x-python",
   "name": "python",
   "nbconvert_exporter": "python",
   "pygments_lexer": "ipython2",
   "version": "2.7.13"
  }
 },
 "nbformat": 4,
 "nbformat_minor": 0
}
